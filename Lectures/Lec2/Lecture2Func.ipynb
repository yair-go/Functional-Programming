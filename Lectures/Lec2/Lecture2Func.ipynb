{
 "cells": [
  {
   "cell_type": "markdown",
   "metadata": {
    "slideshow": {
     "slide_type": "slide"
    }
   },
   "source": [
    "  # Functional Programming in python\n",
    " "
   ]
  },
  {
   "cell_type": "markdown",
   "metadata": {
    "slideshow": {
     "slide_type": "subslide"
    }
   },
   "source": [
    " ## Lecture 2"
   ]
  },
  {
   "cell_type": "code",
   "execution_count": null,
   "metadata": {},
   "outputs": [],
   "source": [
    "from IPython.core.display import HTML\n",
    "from urllib.request import urlopen\n",
    "from IPython.core.display import HTML\n",
    "response = urlopen('https://raw.githubusercontent.com/yairJCT/Functional-Programming/master/Lectures/stylles.css').read()\n",
    "style =\"<style>\"+str(response, 'utf-8')+ \"</style>\"\n",
    "#print(style)\n",
    "HTML(style)\n",
    "#HTML(urlopen('https://raw.githubusercontent.com/yairJCT/Functional-Programming/master/Lectures/stylles.css').read())"
   ]
  },
  {
   "cell_type": "code",
   "execution_count": 1,
   "metadata": {
    "slideshow": {
     "slide_type": "slide"
    }
   },
   "outputs": [
    {
     "data": {
      "text/plain": [
       "[300, 500, 'abc', [4, 7, 'abf']]"
      ]
     },
     "execution_count": 1,
     "metadata": {},
     "output_type": "execute_result"
    }
   ],
   "source": [
    "L = [300, 500, 'abc', [4,7,'abf']]\n",
    "L1 = L\n",
    "L1"
   ]
  },
  {
   "cell_type": "code",
   "execution_count": 2,
   "metadata": {},
   "outputs": [
    {
     "data": {
      "text/plain": [
       "1396425231496"
      ]
     },
     "execution_count": 2,
     "metadata": {},
     "output_type": "execute_result"
    }
   ],
   "source": [
    "id(L)"
   ]
  },
  {
   "cell_type": "code",
   "execution_count": 3,
   "metadata": {},
   "outputs": [
    {
     "data": {
      "text/plain": [
       "1396425231496"
      ]
     },
     "execution_count": 3,
     "metadata": {},
     "output_type": "execute_result"
    }
   ],
   "source": [
    "id(L1)"
   ]
  },
  {
   "cell_type": "markdown",
   "metadata": {
    "slideshow": {
     "slide_type": "subslide"
    }
   },
   "source": [
    "<img src =\"image\\aliasing1.jpg\">"
   ]
  },
  {
   "cell_type": "code",
   "execution_count": 4,
   "metadata": {
    "slideshow": {
     "slide_type": "slide"
    }
   },
   "outputs": [
    {
     "data": {
      "text/plain": [
       "[300, 500, 'abc', [4, 7, 'abf']]"
      ]
     },
     "execution_count": 4,
     "metadata": {},
     "output_type": "execute_result"
    }
   ],
   "source": [
    "L2 = L1[:]\n",
    "L2"
   ]
  },
  {
   "cell_type": "code",
   "execution_count": 5,
   "metadata": {},
   "outputs": [
    {
     "data": {
      "text/plain": [
       "1396442955848"
      ]
     },
     "execution_count": 5,
     "metadata": {},
     "output_type": "execute_result"
    }
   ],
   "source": [
    "print(id(L2))"
   ]
  },
  {
   "cell_type": "markdown",
   "metadata": {
    "slideshow": {
     "slide_type": "subslide"
    }
   },
   "source": [
    "<img src =\"image\\shallow.jpg\">"
   ]
  },
  {
   "cell_type": "code",
   "execution_count": null,
   "metadata": {
    "collapsed": true,
    "slideshow": {
     "slide_type": "slide"
    }
   },
   "outputs": [],
   "source": [
    "id(L1)"
   ]
  },
  {
   "cell_type": "code",
   "execution_count": null,
   "metadata": {
    "collapsed": true,
    "slideshow": {
     "slide_type": "subslide"
    }
   },
   "outputs": [],
   "source": [
    "id(L2)"
   ]
  },
  {
   "cell_type": "code",
   "execution_count": 6,
   "metadata": {
    "slideshow": {
     "slide_type": "subslide"
    }
   },
   "outputs": [
    {
     "data": {
      "text/plain": [
       "300"
      ]
     },
     "execution_count": 6,
     "metadata": {},
     "output_type": "execute_result"
    }
   ],
   "source": [
    "L1[0]"
   ]
  },
  {
   "cell_type": "code",
   "execution_count": 7,
   "metadata": {
    "slideshow": {
     "slide_type": "subslide"
    }
   },
   "outputs": [
    {
     "data": {
      "text/plain": [
       "1396442601840"
      ]
     },
     "execution_count": 7,
     "metadata": {},
     "output_type": "execute_result"
    }
   ],
   "source": [
    "id(L1[0])"
   ]
  },
  {
   "cell_type": "code",
   "execution_count": 8,
   "metadata": {
    "slideshow": {
     "slide_type": "subslide"
    }
   },
   "outputs": [
    {
     "data": {
      "text/plain": [
       "1396442601840"
      ]
     },
     "execution_count": 8,
     "metadata": {},
     "output_type": "execute_result"
    }
   ],
   "source": [
    "id(L2[0])"
   ]
  },
  {
   "cell_type": "code",
   "execution_count": null,
   "metadata": {
    "collapsed": true,
    "slideshow": {
     "slide_type": "subslide"
    }
   },
   "outputs": [],
   "source": [
    "id(L1[1])"
   ]
  },
  {
   "cell_type": "code",
   "execution_count": null,
   "metadata": {
    "collapsed": true,
    "slideshow": {
     "slide_type": "subslide"
    }
   },
   "outputs": [],
   "source": [
    "id(L2[1])"
   ]
  },
  {
   "cell_type": "code",
   "execution_count": null,
   "metadata": {
    "collapsed": true,
    "slideshow": {
     "slide_type": "subslide"
    }
   },
   "outputs": [],
   "source": [
    "id(L1[2])"
   ]
  },
  {
   "cell_type": "code",
   "execution_count": null,
   "metadata": {
    "collapsed": true,
    "slideshow": {
     "slide_type": "subslide"
    }
   },
   "outputs": [],
   "source": [
    "id(L2[2])"
   ]
  },
  {
   "cell_type": "code",
   "execution_count": 9,
   "metadata": {
    "slideshow": {
     "slide_type": "subslide"
    }
   },
   "outputs": [
    {
     "data": {
      "text/plain": [
       "1396442143752"
      ]
     },
     "execution_count": 9,
     "metadata": {},
     "output_type": "execute_result"
    }
   ],
   "source": [
    "id(L1[3])"
   ]
  },
  {
   "cell_type": "code",
   "execution_count": 10,
   "metadata": {
    "slideshow": {
     "slide_type": "fragment"
    }
   },
   "outputs": [
    {
     "data": {
      "text/plain": [
       "1396442143752"
      ]
     },
     "execution_count": 10,
     "metadata": {},
     "output_type": "execute_result"
    }
   ],
   "source": [
    "id(L2[3])"
   ]
  },
  {
   "cell_type": "code",
   "execution_count": null,
   "metadata": {
    "collapsed": true
   },
   "outputs": [],
   "source": [
    "id(L2[3])"
   ]
  },
  {
   "cell_type": "code",
   "execution_count": null,
   "metadata": {
    "collapsed": true,
    "slideshow": {
     "slide_type": "fragment"
    }
   },
   "outputs": [],
   "source": [
    "L1"
   ]
  },
  {
   "cell_type": "code",
   "execution_count": null,
   "metadata": {
    "collapsed": true,
    "slideshow": {
     "slide_type": "fragment"
    }
   },
   "outputs": [],
   "source": [
    "L2"
   ]
  },
  {
   "cell_type": "code",
   "execution_count": 11,
   "metadata": {
    "collapsed": true,
    "slideshow": {
     "slide_type": "slide"
    }
   },
   "outputs": [],
   "source": [
    "L1[3].append(10)"
   ]
  },
  {
   "cell_type": "code",
   "execution_count": 12,
   "metadata": {},
   "outputs": [
    {
     "data": {
      "text/plain": [
       "[4, 7, 'abf', 10]"
      ]
     },
     "execution_count": 12,
     "metadata": {},
     "output_type": "execute_result"
    }
   ],
   "source": [
    "L2[3]"
   ]
  },
  {
   "cell_type": "code",
   "execution_count": 13,
   "metadata": {
    "collapsed": true
   },
   "outputs": [],
   "source": [
    "L1.append(13)"
   ]
  },
  {
   "cell_type": "code",
   "execution_count": 14,
   "metadata": {},
   "outputs": [
    {
     "data": {
      "text/plain": [
       "[300, 500, 'abc', [4, 7, 'abf', 10], 13]"
      ]
     },
     "execution_count": 14,
     "metadata": {},
     "output_type": "execute_result"
    }
   ],
   "source": [
    "L1"
   ]
  },
  {
   "cell_type": "code",
   "execution_count": null,
   "metadata": {
    "collapsed": true
   },
   "outputs": [],
   "source": []
  },
  {
   "cell_type": "code",
   "execution_count": null,
   "metadata": {
    "collapsed": true
   },
   "outputs": [],
   "source": []
  },
  {
   "cell_type": "code",
   "execution_count": 15,
   "metadata": {},
   "outputs": [
    {
     "data": {
      "text/plain": [
       "[300, 500, 'abc', [4, 7, 'abf', 10]]"
      ]
     },
     "execution_count": 15,
     "metadata": {},
     "output_type": "execute_result"
    }
   ],
   "source": [
    "L2"
   ]
  },
  {
   "cell_type": "code",
   "execution_count": null,
   "metadata": {
    "collapsed": true
   },
   "outputs": [],
   "source": []
  },
  {
   "cell_type": "markdown",
   "metadata": {
    "slideshow": {
     "slide_type": "fragment"
    }
   },
   "source": [
    "<img src=\"image\\appending.jpg\">"
   ]
  },
  {
   "cell_type": "code",
   "execution_count": 16,
   "metadata": {
    "slideshow": {
     "slide_type": "slide"
    }
   },
   "outputs": [
    {
     "data": {
      "text/plain": [
       "[300, 500, 'abc', [1, 3, 'abg']]"
      ]
     },
     "execution_count": 16,
     "metadata": {},
     "output_type": "execute_result"
    }
   ],
   "source": [
    "L2[3] = [1,3,'abg']\n",
    "L2"
   ]
  },
  {
   "cell_type": "code",
   "execution_count": 21,
   "metadata": {},
   "outputs": [
    {
     "data": {
      "text/plain": [
       "1396442143752"
      ]
     },
     "execution_count": 21,
     "metadata": {},
     "output_type": "execute_result"
    }
   ],
   "source": [
    "id(L1[3])"
   ]
  },
  {
   "cell_type": "code",
   "execution_count": 22,
   "metadata": {},
   "outputs": [
    {
     "data": {
      "text/plain": [
       "1396442957576"
      ]
     },
     "execution_count": 22,
     "metadata": {},
     "output_type": "execute_result"
    }
   ],
   "source": [
    "id(L2[3])"
   ]
  },
  {
   "cell_type": "code",
   "execution_count": 17,
   "metadata": {
    "slideshow": {
     "slide_type": "fragment"
    }
   },
   "outputs": [
    {
     "data": {
      "text/plain": [
       "[300, 500, 'abc', [4, 7, 'abf', 10], 13]"
      ]
     },
     "execution_count": 17,
     "metadata": {},
     "output_type": "execute_result"
    }
   ],
   "source": [
    "L1"
   ]
  },
  {
   "cell_type": "markdown",
   "metadata": {
    "slideshow": {
     "slide_type": "fragment"
    }
   },
   "source": [
    "<img src =\"image\\shallow2.jpg\">"
   ]
  },
  {
   "cell_type": "code",
   "execution_count": 23,
   "metadata": {
    "slideshow": {
     "slide_type": "slide"
    }
   },
   "outputs": [
    {
     "data": {
      "text/plain": [
       "[300, 500, 'abc', [4, 7, 'abf', 10], 13]"
      ]
     },
     "execution_count": 23,
     "metadata": {},
     "output_type": "execute_result"
    }
   ],
   "source": [
    "import copy\n",
    "L3 = copy.deepcopy(L1)\n",
    "L3"
   ]
  },
  {
   "cell_type": "code",
   "execution_count": 24,
   "metadata": {},
   "outputs": [
    {
     "data": {
      "text/plain": [
       "1396442143752"
      ]
     },
     "execution_count": 24,
     "metadata": {},
     "output_type": "execute_result"
    }
   ],
   "source": [
    "id(L1[3])"
   ]
  },
  {
   "cell_type": "code",
   "execution_count": 25,
   "metadata": {},
   "outputs": [
    {
     "data": {
      "text/plain": [
       "1396442993224"
      ]
     },
     "execution_count": 25,
     "metadata": {},
     "output_type": "execute_result"
    }
   ],
   "source": [
    "id(L3[3])"
   ]
  },
  {
   "cell_type": "markdown",
   "metadata": {
    "collapsed": true,
    "slideshow": {
     "slide_type": "fragment"
    }
   },
   "source": [
    "<img src =\"image\\deepcopy.jpg\">"
   ]
  },
  {
   "cell_type": "markdown",
   "metadata": {},
   "source": [
    "## Files: Input\n",
    "\n",
    "|   Command                   | meanning   |\n",
    "|:----------------------------|:------------:|\n",
    "|inflobj = open(‘data’, ‘r’) | Open the file ‘data’ for input|\n",
    "|S = inflobj.read()|Read whole file into one String|\n"
   ]
  },
  {
   "cell_type": "markdown",
   "metadata": {},
   "source": [
    "<img src =\"image\\filesInput.jpg\">"
   ]
  },
  {
   "cell_type": "markdown",
   "metadata": {},
   "source": [
    "<img src =\"image\\filesOutput.jpg\">"
   ]
  },
  {
   "cell_type": "markdown",
   "metadata": {},
   "source": [
    "<hr/><h1 style=\"text-align: center;\"><strong>משפטי בקרה</h1></strong></h1>\n",
    "<hr />"
   ]
  },
  {
   "cell_type": "markdown",
   "metadata": {},
   "source": [
    "## No Braces!\n",
    "<ul>\n",
    "    <li> Python uses <i><b><u>indentation</i></b></u> instead of braces to determine the scope of expressions in control flow statements, function definitions, class definitions, etc. </li>\n",
    "    <li> All lines must be indented the same amount to be part of the scope (or indented more if part of an inner scope) </li>\n",
    "    <li> This forces the programmer to use proper indentation since the indenting is part of the program! </li>\n",
    "    <li> Proper indentation must be tab-based or spaces-based, but it cannot be a mixture of tabs and spaces. </li>\n",
    "</ul>"
   ]
  },
  {
   "cell_type": "code",
   "execution_count": 30,
   "metadata": {},
   "outputs": [
    {
     "name": "stdout",
     "output_type": "stream",
     "text": [
      "y =  -0.3048106211022167\n"
     ]
    }
   ],
   "source": [
    "# %load ExamplePrograms2\\ifstatement.py\n",
    "#\n",
    "# ifstatement.py\n",
    "#\n",
    "import math \n",
    "x = 30 \n",
    "if x <= 15 :\n",
    "    pass\n",
    "elif x <= 30  :\n",
    "    y = x + 30\n",
    "else :\n",
    "    y = x\n",
    "print ('y = ', math.sin(y))\n",
    "\n"
   ]
  },
  {
   "cell_type": "code",
   "execution_count": 33,
   "metadata": {},
   "outputs": [
    {
     "name": "stdout",
     "output_type": "stream",
     "text": [
      "1\n",
      "2\n",
      "3\n",
      "4\n",
      "5\n",
      "6\n",
      "7\n",
      "8\n",
      "9\n"
     ]
    }
   ],
   "source": [
    "# %load ExamplePrograms2\\whileloop.py\n",
    "#\n",
    "# whileloop.py\n",
    "#\n",
    "x = 1\n",
    "while x < 10:\n",
    "    print (x)\n",
    "    x = x + 1\n",
    "#\n"
   ]
  },
  {
   "cell_type": "markdown",
   "metadata": {},
   "source": [
    "<img src =\"image\\LoopControl.jpg\">"
   ]
  },
  {
   "cell_type": "markdown",
   "metadata": {},
   "source": [
    "<h2> <i>while</i> Loop <i>else</i> Clause</h2>\n"
   ]
  },
  {
   "cell_type": "markdown",
   "metadata": {},
   "source": [
    "### The optional else clause runs only if the loop exits normally (not by break)"
   ]
  },
  {
   "cell_type": "code",
   "execution_count": 34,
   "metadata": {},
   "outputs": [
    {
     "name": "stdout",
     "output_type": "stream",
     "text": [
      "1\n",
      "2\n",
      "hello\n"
     ]
    }
   ],
   "source": [
    "# %load ExamplePrograms2\\whilelse.py\n",
    "#\n",
    "# whilelse.py\n",
    "#\n",
    "x = 1\n",
    "while x < 3 :\n",
    "    print (x)\n",
    "    x = x + 1\n",
    "else:\n",
    "    print ('hello')\n"
   ]
  },
  {
   "cell_type": "code",
   "execution_count": 35,
   "metadata": {},
   "outputs": [
    {
     "name": "stdout",
     "output_type": "stream",
     "text": [
      "1\n",
      "2\n"
     ]
    }
   ],
   "source": [
    "# %load ExamplePrograms2\\whilelse2.py\n",
    "#\n",
    "# whilelse2.py\n",
    "#\n",
    "x = 1\n",
    "y = 3\n",
    "while True:\n",
    "    if  x == y:\n",
    "      break\n",
    "    else:\n",
    "      print (x)\n",
    "    x += 1\n",
    "else :\n",
    "    print ('I got here')\n",
    "\n"
   ]
  },
  {
   "cell_type": "markdown",
   "metadata": {},
   "source": [
    "<h2> Python <i><strong>for</strong></i> Loops </h2>"
   ]
  },
  {
   "cell_type": "markdown",
   "metadata": {},
   "source": [
    "<img src = \"image\\LoopFor.jpg\"/>"
   ]
  },
  {
   "cell_type": "code",
   "execution_count": 36,
   "metadata": {},
   "outputs": [
    {
     "data": {
      "text/plain": [
       "range(0, 10)"
      ]
     },
     "execution_count": 36,
     "metadata": {},
     "output_type": "execute_result"
    }
   ],
   "source": [
    "range(10)"
   ]
  },
  {
   "cell_type": "code",
   "execution_count": 38,
   "metadata": {},
   "outputs": [
    {
     "data": {
      "text/plain": [
       "[0, 1, 2, 3, 4, 5, 6, 7, 8, 9]"
      ]
     },
     "execution_count": 38,
     "metadata": {},
     "output_type": "execute_result"
    }
   ],
   "source": [
    "list(range(10))"
   ]
  },
  {
   "cell_type": "code",
   "execution_count": 39,
   "metadata": {},
   "outputs": [
    {
     "data": {
      "text/plain": [
       "[1, 2, 3, 4, 5, 6, 7, 8, 9]"
      ]
     },
     "execution_count": 39,
     "metadata": {},
     "output_type": "execute_result"
    }
   ],
   "source": [
    "list(range(1,10))"
   ]
  },
  {
   "cell_type": "code",
   "execution_count": 40,
   "metadata": {},
   "outputs": [
    {
     "data": {
      "text/plain": [
       "[0, 2, 4, 6, 8]"
      ]
     },
     "execution_count": 40,
     "metadata": {},
     "output_type": "execute_result"
    }
   ],
   "source": [
    "list(range(0,10,2))"
   ]
  },
  {
   "cell_type": "code",
   "execution_count": 41,
   "metadata": {},
   "outputs": [
    {
     "data": {
      "text/plain": [
       "[1, 3, 5, 7, 9]"
      ]
     },
     "execution_count": 41,
     "metadata": {},
     "output_type": "execute_result"
    }
   ],
   "source": [
    "list(range(1,10,2))"
   ]
  },
  {
   "cell_type": "code",
   "execution_count": 42,
   "metadata": {},
   "outputs": [
    {
     "data": {
      "text/plain": [
       "[10, 9, 8, 7, 6]"
      ]
     },
     "execution_count": 42,
     "metadata": {},
     "output_type": "execute_result"
    }
   ],
   "source": [
    "list(range(10,5,-1))"
   ]
  },
  {
   "cell_type": "code",
   "execution_count": 43,
   "metadata": {},
   "outputs": [
    {
     "data": {
      "text/plain": [
       "[10, 8, 6]"
      ]
     },
     "execution_count": 43,
     "metadata": {},
     "output_type": "execute_result"
    }
   ],
   "source": [
    "list(range(10,5,-2))"
   ]
  },
  {
   "cell_type": "code",
   "execution_count": 44,
   "metadata": {},
   "outputs": [
    {
     "data": {
      "text/plain": [
       "[-1, -2, -3, -4, -5, -6, -7, -8, -9]"
      ]
     },
     "execution_count": 44,
     "metadata": {},
     "output_type": "execute_result"
    }
   ],
   "source": [
    "list(range(-1,-10,-1))"
   ]
  },
  {
   "cell_type": "code",
   "execution_count": 45,
   "metadata": {},
   "outputs": [
    {
     "data": {
      "text/plain": [
       "[]"
      ]
     },
     "execution_count": 45,
     "metadata": {},
     "output_type": "execute_result"
    }
   ],
   "source": [
    "list(range(-1,-10,1))"
   ]
  },
  {
   "cell_type": "code",
   "execution_count": null,
   "metadata": {},
   "outputs": [
    {
     "name": "stdout",
     "output_type": "stream",
     "text": [
      "10\n",
      "Enter the range initial value : 1\n",
      "Enter the range stop value: 2\n",
      "Enter the range step value>: 1\n",
      "1\n"
     ]
    }
   ],
   "source": [
    "# %load ExamplePrograms2\\rangeforloop.py\n",
    "#\n",
    "# rangeforloop.py\n",
    "#\n",
    "def accFunc(init, stop, step):\n",
    "   acc = 0\n",
    "   for value in range(init, stop, step):\n",
    "      acc += value\n",
    "   return acc\n",
    "#\n",
    "acc = 0\n",
    "for i in range(5):\n",
    "   acc += i\n",
    "print (acc)\n",
    "#\n",
    "initVal = int(input(\"Enter the range initial value : \"))\n",
    "stopVal = int(input(\"Enter the range stop value: \"))\n",
    "stepVal = int(input(\"Enter the range step value>: \"))\n",
    "acc = accFunc(initVal, stopVal, stepVal)\n",
    "print (acc)\n",
    "#\n"
   ]
  },
  {
   "cell_type": "code",
   "execution_count": null,
   "metadata": {
    "collapsed": true
   },
   "outputs": [],
   "source": [
    "# %load ExamplePrograms2\\forloopOnBuiltIns.py\n",
    "#\n",
    "# forloopOnBuiltInspy\n",
    "#\n",
    "def iterableLooping(iterableObj):\n",
    "   Lout = []\n",
    "   for item in iterableObj:\n",
    "      Lout.append(item)\n",
    "   return Lout\n",
    "#\n",
    "typeSet = set([])\n",
    "for i in range(5):\n",
    "   while True:\n",
    "     Obj = eval(input(\"Enter the iterable object to loop on : \"))\n",
    "     ObjType = type(Obj)\n",
    "     if ObjType not in typeSet:\n",
    "       typeSet.add(ObjType)\n",
    "       print (iterableLooping(Obj))\n",
    "       break\n",
    "     else:\n",
    "       print (\"You already tried this object type\")\n",
    "#\n"
   ]
  },
  {
   "cell_type": "code",
   "execution_count": null,
   "metadata": {
    "collapsed": true
   },
   "outputs": [],
   "source": [
    "# %load ExamplePrograms2\\forloops.py\n",
    "# forloops.py\n",
    "#\n",
    "# FUNCTIONS\n",
    "#\n",
    "from string import ascii_letters\n",
    "#\n",
    "def isNumber(Str):\n",
    "   idx = Str.find('.')\n",
    "   if idx == -1:\n",
    "     return Str.isdigit()\n",
    "   else:\n",
    "     return Str[:idx].isdigit() and Str[idx+1:].isdigit()\n",
    "def isActualStr(Str):\n",
    "   ascii_letters_set = set(ascii_letters + ' ')\n",
    "   strSet = set(Str)\n",
    "   return not (strSet - ascii_letters_set)\n",
    "def loopByItem(Seq, Msg):\n",
    "  print (Msg)\n",
    "  for item in Seq :\n",
    "    print (item, end=' ')\n",
    "  print ()\n",
    "  return\n",
    "def loopByIndex(Seq, Msg):\n",
    "  print (Msg)\n",
    "  for i in range(len(Seq)):\n",
    "    item = Seq[i]\n",
    "    print (item, end=' ')\n",
    "  print ()\n",
    "  return\n",
    "def loopUsingIterator(iterator, Msg):\n",
    "  print (Msg)\n",
    "  for i, item in iterator:\n",
    "    print ((i, item), end=' ')\n",
    "  print ()\n",
    "  return\n",
    "#\n",
    "# MAIN PROGRAM\n",
    "#\n",
    "while True:\n",
    " inputStr = input(\"Enter a legal value ('q' for quit): \")\n",
    " if inputStr == 'q':\n",
    "   break\n",
    " if isNumber(inputStr):\n",
    "  if inputStr.find('.') == -1:\n",
    "    print (\"The input string represents the integer number \", int(inputStr))\n",
    "  else:\n",
    "    print (\"The input string represents the float number \", float(inputStr))\n",
    " elif isActualStr(inputStr):\n",
    "  print (\"The input string is printed as it is: \", inputStr)\n",
    " else:\n",
    "  print (\"Let's evaluate the input string. \")\n",
    "  Seq = eval(inputStr)\n",
    "  print (\"Seq = \", Seq)\n",
    "  loopByItem(Seq, \"=== for loop by item ===\")\n",
    "  if isinstance(Seq,(list, tuple)):\n",
    "    loopByIndex(Seq, \"=== for loop by index ===\")\n",
    "  if isinstance(Seq,(list, tuple, set)):\n",
    "    loopUsingIterator(enumerate(Seq), \"=== for loop by index and item, using enumerate() ===\")\n",
    "  elif isinstance(Seq, dict):\n",
    "    loopUsingIterator(Seq.items(),\"=== for loop by key and value, using items() ===\")\n",
    "#  \n"
   ]
  },
  {
   "cell_type": "code",
   "execution_count": null,
   "metadata": {
    "collapsed": true
   },
   "outputs": [],
   "source": [
    "# %load ExamplePrograms2\\elseforloop.py\n",
    "#\n",
    "# elseforloop.py\n",
    "#\n",
    "import sys\n",
    "import collections\n",
    "#\n",
    "def average(L):\n",
    "   return sum(L) / len(L)\n",
    "#\n",
    "def prtError(Msg):\n",
    "   print (Msg)\n",
    "   print ('Program is aborted')\n",
    "   return\n",
    "#\n",
    "L = eval(input('Enter a sequence of numbers: '))\n",
    "if isinstance(L, collections.Iterable):\n",
    "  print ('OK - the input ', L, ' is a sequence.')\n",
    "else:\n",
    "  prtError('ERROR - the input is not a sequence!')\n",
    "  sys.exit()\n",
    "#\n",
    "for item in L:\n",
    "   if not isinstance(item, (int, float)):\n",
    "     prtError('ERROR - the item in position ' + str(L.index(item)) + ' is not a number')\n",
    "     sys.exit()\n",
    "else :\n",
    "    print ('OK - all the items in the sequence are numbers')\n",
    "    print ('The minimum of all of them is: ', min(L))\n",
    "    print ('The maximum of all of them is: ', max(L))\n",
    "    print ('The sum of all of them is: ', sum(L))\n",
    "    print ('The average of all of them is: ', average(L))\n",
    "    \n"
   ]
  },
  {
   "cell_type": "markdown",
   "metadata": {},
   "source": [
    "## דוגמה: הנפה של ארטוסתנס (Eratosthenes) \n"
   ]
  },
  {
   "cell_type": "code",
   "execution_count": null,
   "metadata": {
    "collapsed": true
   },
   "outputs": [],
   "source": [
    "# %load ExamplePrograms2\\eratosthenes.py\n",
    "#\n",
    "# eratosthenes.py\n",
    "# The Eratosthenes' algorithm\n",
    "#\n",
    "def napa(N):\n",
    "    rishoni = [True]*N\n",
    "    rishoni[0] = False\n",
    "    # make rishoni to be an array of True values for prime numbers\n",
    "    for i in range(2,N):\n",
    "        if rishoni[i]:\n",
    "            for mlt in range(i*2,N,i):\n",
    "               rishoni[mlt]=False\n",
    "    res = []\n",
    "    for i, item in enumerate(rishoni):\n",
    "       if item:\n",
    "         res.append(i)\n",
    "    return res\n"
   ]
  },
  {
   "cell_type": "code",
   "execution_count": null,
   "metadata": {
    "collapsed": true
   },
   "outputs": [],
   "source": [
    "napa(100)"
   ]
  },
  {
   "cell_type": "markdown",
   "metadata": {},
   "source": [
    "<hr />\n",
    "<h1 style=\"text-align: center;\"><strong>Functions</strong></h1>\n",
    "<hr />"
   ]
  },
  {
   "cell_type": "markdown",
   "metadata": {},
   "source": [
    "![image.png](attachment:image.png)"
   ]
  },
  {
   "cell_type": "code",
   "execution_count": null,
   "metadata": {
    "collapsed": true
   },
   "outputs": [],
   "source": [
    "# %load ExamplePrograms2\\functionbasics.py\n",
    "\n",
    "#\n",
    "# functionbasics.py\n",
    "#\n",
    "def mymax(x, y):\n",
    "   if x < y:\n",
    "     retval = y\n",
    "   else:\n",
    "     retval = x\n",
    "   return retval\n"
   ]
  },
  {
   "cell_type": "code",
   "execution_count": null,
   "metadata": {
    "collapsed": true
   },
   "outputs": [],
   "source": [
    "mymax('abc','defr')"
   ]
  },
  {
   "cell_type": "code",
   "execution_count": null,
   "metadata": {
    "collapsed": true
   },
   "outputs": [],
   "source": [
    "mymax([4,5,3],[4,21,7])"
   ]
  },
  {
   "cell_type": "code",
   "execution_count": null,
   "metadata": {
    "collapsed": true
   },
   "outputs": [],
   "source": [
    "mymax((1,2,3),(4,21,7))"
   ]
  },
  {
   "cell_type": "code",
   "execution_count": null,
   "metadata": {
    "collapsed": true
   },
   "outputs": [],
   "source": [
    "mymax(set([1,2,3]),set([4,21,7]))"
   ]
  },
  {
   "cell_type": "code",
   "execution_count": null,
   "metadata": {
    "collapsed": true
   },
   "outputs": [],
   "source": [
    "mymax(5,'6')"
   ]
  },
  {
   "cell_type": "markdown",
   "metadata": {},
   "source": [
    "<h2><span style=\"font-family: 'Comic sans MS';\">Function Basics: Positional Parameters</span></h2>"
   ]
  },
  {
   "cell_type": "markdown",
   "metadata": {},
   "source": [
    "<p><strong><em>Actual Parameters</em></strong> are passed to <strong><em>Formal Parameters </em></strong>by their <strong><em>position</em></strong> in the parameters list.</p>\n",
    "<p>When a function is called, the <strong>Formal Parameters </strong>are <strong><em>assigned</em></strong> the <strong><em>Actual Parameters </em></strong>by <strong><em>position</em></strong>.</p>"
   ]
  },
  {
   "cell_type": "code",
   "execution_count": null,
   "metadata": {
    "collapsed": true
   },
   "outputs": [],
   "source": [
    "# %load ExamplePrograms2\\positionalPrm.py\n",
    "#\n",
    "# positionalPrm.py\n",
    "#\n",
    "def accFunc(init, stop, step):\n",
    "   acc = 0\n",
    "   for value in range(init, stop, step):\n",
    "      acc += value\n",
    "   return acc\n",
    "#\n",
    "initVal = int(input(\"Enter the range initial value : \"))\n",
    "stopVal = int(input(\"Enter the range stop value: \"))\n",
    "stepVal = int(input(\"Enter the range step value>: \"))\n",
    "acc = accFunc(initVal, stopVal, stepVal)\n",
    "print (acc)\n",
    "#\n"
   ]
  },
  {
   "cell_type": "markdown",
   "metadata": {},
   "source": [
    "<h2><span style=\"font-family: 'Comic sans MS';\">Function Basics: Default Parameters</span></h2>"
   ]
  },
  {
   "cell_type": "markdown",
   "metadata": {},
   "source": [
    "\n",
    "<p>Parameters can be assigned <strong><em>default values.</em></strong></p>\n",
    "<p>They are <strong><em>overridden</em></strong> if <strong><em>actual parameters are given </em></strong>for them.</p>\n",
    "<p><strong><em>Default formal parameters </em></strong>must come <strong>after</strong> all the <strong><em>positional formal parameters</em></strong>.</p>"
   ]
  },
  {
   "cell_type": "code",
   "execution_count": null,
   "metadata": {
    "collapsed": true
   },
   "outputs": [],
   "source": [
    "# %load ExamplePrograms2\\defaultPrm.py\n",
    "#\n",
    "# defaultPrm.py\n",
    "#\n",
    "import sys\n",
    "#\n",
    "def accFunc(stop, init = 0, step = 1):\n",
    "   acc = 0\n",
    "   for value in range(init, stop, step):\n",
    "      acc += value\n",
    "   return acc\n",
    "#\n",
    "initValStr = input(\"Enter the range initial value [0] : \")\n",
    "stopValStr = input(\"Enter the range stop value : \")\n",
    "if not stopValStr:\n",
    "  print ('ERROR - the stop value is not optional!')\n",
    "  print ('        Program is aborted')\n",
    "  sys.exit()\n",
    "stopVal = int(stopValStr)\n",
    "stepValStr = input(\"Enter the range step value [1] : \")\n",
    "if not initValStr:\n",
    "  if stepValStr == '':\n",
    "    acc = accFunc(stopVal)\n",
    "  else:\n",
    "    stepVal = int(stepValStr) \n",
    "    acc = accFunc(stopVal, 0, stepVal)\n",
    "else:\n",
    "  initVal = int(initValStr)\n",
    "  if not stepValStr:\n",
    "    acc = accFunc(stopVal, initVal)\n",
    "  else:\n",
    "    stepVal = int(stepValStr)\n",
    "    acc = accFunc(stopVal, initVal, stepVal)\n",
    "print (acc)\n",
    "#\n",
    "\n"
   ]
  },
  {
   "cell_type": "markdown",
   "metadata": {},
   "source": [
    "<h2><span style=\"font-family: 'Comic sans MS';\">Function Basics: Keyword Parameters</span></h2>"
   ]
  },
  {
   "cell_type": "markdown",
   "metadata": {},
   "source": [
    "<h3 style=\"text-align: center;\"><span style=\"color: #ff6600;\"><strong>Call by name </strong></span>(CBN)</h3>\n",
    "<p>Keyword (<strong><em>actual</em></strong>) parameters syntax:&nbsp; <strong>formalParamName</strong><strong> = </strong><strong>ActualParamValue</strong></p>\n",
    "<p>Any <strong><em>positional arguments </em></strong>must come <strong>before </strong><strong><em>named ones </em></strong>in a <strong><em>call</em></strong> to the function.</p>\n",
    "<p><strong><em>Keyword actual parameters </em></strong>may come in <strong><em>any order </em></strong>in a <strong><em>call</em></strong> to the function.</p>"
   ]
  },
  {
   "cell_type": "code",
   "execution_count": null,
   "metadata": {
    "collapsed": true
   },
   "outputs": [],
   "source": [
    "# %load ExamplePrograms2\\keywordPrm.py\n",
    "#\n",
    "# keywordPrm.py\n",
    "#\n",
    "def accFunc(init, stop, step):\n",
    "   acc = 0\n",
    "   for value in range(init, stop, step):\n",
    "      acc += value\n",
    "   return acc\n",
    "#\n",
    "initVal = int(input(\"Enter the range initial value : \"))\n",
    "stopVal = int(input(\"Enter the range stop value : \"))\n",
    "stepVal = int(input(\"Enter the range step value : \"))\n",
    "acc = accFunc(stop = stopVal, step = stepVal, init = initVal)\n",
    "print (acc)\n",
    "#\n"
   ]
  },
  {
   "cell_type": "markdown",
   "metadata": {},
   "source": [
    "<h2><span style=\"font-family: 'Comic sans MS';\">Function Basics: *args - Non-keyworded unlimited parameters</span></h2>"
   ]
  },
  {
   "cell_type": "markdown",
   "metadata": {},
   "source": [
    "<p><span style=\"color: #ff6600;\"><u><strong> **args</strong></u> </span><u><strong>as formal parameter </strong></u></p>\n",
    "<p>-It may be used <strong><em>to allow passing </em></strong>an <strong><em>unlimited number of positional actual parameters</em></strong> to a function.</p>\n",
    "<p>-It may be used <strong><em>when the programmer does not know in advance how many actual parameters </em></strong>will the caller pass to the function.</p>\n",
    "<p>-<u>At runtime</u>, the <strong><em>actual parameter values </em></strong>passed by the caller, are received as part of a <strong><em>tuple</em></strong>.</p>\n",
    "<p><span style=\"color: #ff6600;\">-<strong> *args</strong></span> is only a convention; any name may be used.</p>\n",
    "<p><span style=\"color: #ff6600;\"><u><strong> *args</strong></u></span> <u><strong>as actual parameter </strong></u></p>\n",
    "<p>-It may be used to <strong><em>allow the elements of a sequence to be passed as actual parameters </em></strong>to a function.</p>\n",
    "<p>-It may be used <strong><em>when the programmer wants to decompose a sequence and pass all its elements as actual parameters </em></strong>to a function.</p>\n",
    "<p>-<u>At runtime</u>, the <strong><em>actual number of elements</em></strong> in the sequence (its length) needs to be in accordance to <strong><em>the number of actual parameters the function expects</em></strong> to receive.</p>"
   ]
  },
  {
   "cell_type": "code",
   "execution_count": null,
   "metadata": {
    "collapsed": true
   },
   "outputs": [],
   "source": [
    "# %load ExamplePrograms2\\unkeyUnlimitedPrm.py\n",
    "#\n",
    "# unkeyUnlimitedPrm.py\n",
    "#\n",
    "def unlimitadd(*values):\n",
    "   if values:\n",
    "     if isinstance(values[0], (int, float)):\n",
    "       result = 0\n",
    "     elif isinstance(values[0], str):\n",
    "       result = ''\n",
    "     for val in values:\n",
    "        result += val\n",
    "   else:\n",
    "     result = 0\n",
    "   return result\n",
    "#\n"
   ]
  },
  {
   "cell_type": "code",
   "execution_count": null,
   "metadata": {
    "collapsed": true
   },
   "outputs": [],
   "source": [
    "unlimitadd(\"3,5,2,7\")"
   ]
  },
  {
   "cell_type": "markdown",
   "metadata": {},
   "source": [
    "<h2><font face = \"Comic sans MS\">Function Basics: **kwargs - Keyworded unlimited parameters</font></h2>"
   ]
  },
  {
   "cell_type": "markdown",
   "metadata": {},
   "source": [
    "\n",
    "<p><span style=\"color: #ff6600;\"><u><strong>&#42;&#42;kwargs</strong></u></span> <u><strong>as formal parameter </strong></u></p>\n",
    "<p>-it may be used <strong><em>to allow passing </em></strong>an <strong><em>unlimited number of keyword&nbsp; parameters </em></strong>to a function.</p>\n",
    "<p>-it may be used <strong><em>when the programmer does not know in advance how many keyword parameters </em></strong>will the caller pass to the function.</p>\n",
    "<p>-<u>At runtime</u>, the <strong><em>keyword parameters </em></strong>are received as part of a <strong><em>dictionary</em></strong><strong>,</strong> where the <strong><em>keys </em></strong>are the <strong><em>formal parameter names</em></strong>, and <strong><em>the values </em></strong>are the <strong><em>actual parameter values </em></strong>passed by the caller.</p>\n",
    "<p>-<span style=\"color: #ff6600;\"><strong>&#42;&#42;kwargs</strong></span> is only a convention; any name may be used.&nbsp;&nbsp;</p>\n",
    "<p><span style=\"color: #ff6600;\"><u><strong>&#42;&#42;kwargs</strong></u></span> <u><strong>as actual parameter </strong></u></p>\n",
    "<p>-It may be used to <strong><em>allow the pairs of a dictionary to be passed as actual keyword parameters </em></strong>to a function.</p>\n",
    "<p>-It may be used <strong><em>when the programmer wants to decompose a </em></strong><strong><em>dicitonary</em></strong><strong><em> and pass all its pairs as actual keyword parameters </em></strong>to a function.</p>\n",
    "<p>-<u>At runtime</u>, the <strong><em>actual number of pairs</em></strong> in the <strong><em>dictionary</em></strong> (its length) needs to be in accordance to <strong><em>the number of actual parameters the function expects</em></strong> to receive.</p>"
   ]
  },
  {
   "cell_type": "code",
   "execution_count": null,
   "metadata": {
    "collapsed": true
   },
   "outputs": [],
   "source": [
    "# %load ExamplePrograms2\\keyUnlimitedPrm.py\n",
    "#\n",
    "# keyUnlimitedPrm.py\n",
    "#\n",
    "def orderTotal(**order):\n",
    "   # every formal parameter is a part name\n",
    "   # every actual parameter is the qty of bought units\n",
    "   inStock = {'p1':100.0, 'p2':250.0, 'p3':50.0}\n",
    "   notInStock = dict([]) \n",
    "   total = 0.0\n",
    "   if order:\n",
    "     for pName, pQty in order.items():\n",
    "        if pName in inStock:\n",
    "          total += inStock[pName]*pQty\n",
    "        elif pName not in notInStock:\n",
    "          notInStock[pName] = pQty\n",
    "        else:\n",
    "          notInStock[pName] += pQty\n",
    "   return (total, notInStock)\n",
    "#\n"
   ]
  },
  {
   "cell_type": "code",
   "execution_count": null,
   "metadata": {
    "collapsed": true
   },
   "outputs": [],
   "source": [
    "partsToOrder = dict([('p1',3),('p3',2),('p2',5)])\n",
    "partsToOrder"
   ]
  },
  {
   "cell_type": "code",
   "execution_count": null,
   "metadata": {
    "collapsed": true
   },
   "outputs": [],
   "source": [
    "orderTotal(**partsToOrder)"
   ]
  },
  {
   "cell_type": "code",
   "execution_count": null,
   "metadata": {
    "collapsed": true
   },
   "outputs": [],
   "source": []
  },
  {
   "cell_type": "code",
   "execution_count": null,
   "metadata": {
    "collapsed": true
   },
   "outputs": [],
   "source": [
    "# %load ExamplePrograms2\\keyUnlimited2Prm.py\n",
    "#\n",
    "# keyUnlimited2Prm.py\n",
    "# -- a **kwargs variation of quadratic.py\n",
    "#\n",
    "import math\n",
    "\n",
    "def CalculateDiscriminant(x,y,z):\n",
    "   desc = y**2 - 4*x*z \n",
    "   return desc\n",
    " \n",
    "def CalculateRoots(a,b,desc):\n",
    "  result = []\n",
    "  term = -b / (2*a)\n",
    "  if desc == 0:\n",
    "    result.append(term)\n",
    "  elif desc > 0:\n",
    "    root1 = term + math.sqrt(desc) / (2*a)\n",
    "    root2 = term - math.sqrt(desc) / (2*a)\n",
    "    result.extend([root1, root2]) \n",
    "  else:\n",
    "    pass\n",
    "  return result\n",
    "####\n",
    "##\n",
    "def PrintSolution(RootsList):\n",
    "  if (len(RootsList) == 0):\n",
    "    print ('no real solutions')\n",
    "  elif (len(RootsList) == 1):\n",
    "    print ('the only one solution is ',)\n",
    "    print (RootsList[0])\n",
    "  else:\n",
    "    print ('the two real solutions are: ',)\n",
    "    print (RootsList)\n",
    "#\n",
    "def quadratic(a, b, c):\n",
    "   desc = CalculateDiscriminant(a,b,c)\n",
    "   return CalculateRoots(a, b, desc)\n",
    "#\n",
    "aValue = float(input('Enter the value of a: '))\n",
    "bValue = float(input('Enter the value of b: '))\n",
    "cValue = float(input('Enter the value of c: '))\n",
    "coeffs = dict([('a',aValue),('b',bValue),('c',cValue)])\n",
    "# Solution is a list\n",
    "Solution = quadratic(**coeffs)\n",
    "PrintSolution(Solution)\n",
    "\n"
   ]
  },
  {
   "cell_type": "markdown",
   "metadata": {},
   "source": [
    "<h2><span style=\"font-family: 'Comic sans MS';\">module, program, or both: <strong>if __name&#95;&#95; == &ldquo;&#95;&#95;main&#95;&#95;&rdquo;</strong></span></h2>"
   ]
  },
  {
   "cell_type": "code",
   "execution_count": null,
   "metadata": {
    "collapsed": true
   },
   "outputs": [],
   "source": [
    "# %load ExamplePrograms2\\keyUnlimited3Prm.py\n",
    "#\n",
    "# keyUnlimited3Prm.py\n",
    "# -- Python file which may be used as\n",
    "#    a program as well as a module\n",
    "#\n",
    "from ExamplePrograms2.quadraticFuncs import *\n",
    "#\n",
    "def PrintSolution(RootsList):\n",
    "  if (len(RootsList) == 0):\n",
    "    print ('no real solutions')\n",
    "  elif (len(RootsList) == 1):\n",
    "    print ('the only one solution is ',)\n",
    "    print (RootsList[0])\n",
    "  else:\n",
    "    print ('the two real solutions are: ',)\n",
    "    print (RootsList)\n",
    "#\n",
    "def quadratic(a, b, c):\n",
    "   desc = CalculateDiscriminant(a,b,c)\n",
    "   return CalculateRoots(a, b, desc)\n",
    "#\n",
    "def main():\n",
    "  aValue = float(input('Enter the value of a: '))\n",
    "  bValue = float(input('Enter the value of b: '))\n",
    "  cValue = float(input('Enter the value of c: '))\n",
    "  coeffs = dict([('a',aValue),('b',bValue),('c',cValue)])\n",
    "  # Solution is a list\n",
    "  Solution = quadratic(**coeffs)\n",
    "  PrintSolution(Solution)\n",
    "#\n",
    "if __name__ == \"__main__\":\n",
    "  print (\"Now this Python file is run as a program\")\n",
    "  main()\n",
    "else:\n",
    "  print (\"Now this Python file is imported as a module\")\n"
   ]
  },
  {
   "cell_type": "markdown",
   "metadata": {},
   "source": [
    "<h2><span style=\"font-family: 'Comic sans MS';\"><strong>Read-Eval-Print Loop (REPL): how does the Python Shell work?</strong></span></h2>"
   ]
  },
  {
   "cell_type": "markdown",
   "metadata": {},
   "source": [
    "![image.png](attachment:image.png)"
   ]
  },
  {
   "cell_type": "code",
   "execution_count": null,
   "metadata": {
    "collapsed": true
   },
   "outputs": [],
   "source": [
    "L = [2,3,4,5,6]"
   ]
  },
  {
   "cell_type": "markdown",
   "metadata": {},
   "source": [
    "<img src =\"image\\REPLeval.jpg\">"
   ]
  },
  {
   "cell_type": "code",
   "execution_count": null,
   "metadata": {
    "collapsed": true
   },
   "outputs": [],
   "source": [
    "sum(L)"
   ]
  },
  {
   "cell_type": "markdown",
   "metadata": {},
   "source": [
    "![image.png](attachment:image.png)"
   ]
  },
  {
   "cell_type": "markdown",
   "metadata": {},
   "source": [
    "![image.png](attachment:image.png)"
   ]
  },
  {
   "cell_type": "markdown",
   "metadata": {},
   "source": [
    "<hr />\n",
    "<h1 style=\"text-align: center;\"><strong>Classes</strong></h1>\n",
    "<hr />"
   ]
  },
  {
   "cell_type": "markdown",
   "metadata": {},
   "source": [
    "<h2><span style=\"font-family: 'Comic sans MS';\"><strong>Python is Object-Oriented</strong></span></h2>"
   ]
  },
  {
   "cell_type": "markdown",
   "metadata": {},
   "source": [
    "<ul>\n",
    "<li><strong><em>Everything</em></strong> in Python are <strong><em>objects</em></strong>.</li>\n",
    "<li>A <strong><em>class</em></strong> is a <strong><em>collection </em></strong>of<strong><em> data </em></strong>and <strong><em>methods </em></strong>that <strong><em>act</em></strong> on <strong><em>that data</em></strong>.</li>\n",
    "</ul>"
   ]
  },
  {
   "cell_type": "markdown",
   "metadata": {},
   "source": [
    "<h2><span style=\"font-family: 'Comic sans MS';\"><strong>Class Syntax</strong></span></h2>"
   ]
  },
  {
   "cell_type": "markdown",
   "metadata": {},
   "source": [
    "<p style=\"text-align: left; padding-left: 180px;\"><strong>class myclass :</strong><br /> <br /><strong> def __init__(self, val) :</strong><br /><strong>   self.x = val</strong></p>\n",
    "<p style=\"text-align: left; padding-left: 180px;\"><strong>def printit(self) :</strong><br /><strong> print (self.x)</strong></p>"
   ]
  },
  {
   "cell_type": "markdown",
   "metadata": {},
   "source": [
    "* <p><strong><em>Every method </em></strong>in a class takes a <strong><em>self</em></strong>-pointer as the <strong><em>first parameter </em></strong></p>\n",
    "<p>&nbsp;&nbsp; (<strong><em>self</em></strong> is a convention) like <strong><em>this</em></strong> in Java or C++</p>\n",
    "* <p><strong> &lowbar;&lowbar;init&lowbar;&lowbar; </strong>is a built-in function that you override as the<strong><em> initializer </em></strong>of an <strong><em>object </em></strong>of the class (it is <u><strong><em>not</em></strong></u> a <strong><em>constructor </em></strong>like in Java or C++)</p>"
   ]
  },
  {
   "cell_type": "markdown",
   "metadata": {},
   "source": [
    "<h2><span style=\"font-family: 'Comic sans MS';\"><strong>Class Method Calls</strong></span></h2>"
   ]
  },
  {
   "cell_type": "markdown",
   "metadata": {},
   "source": [
    "<ul>\n",
    "<li><strong><em>self</em></strong> is <strong><em>automatically added</em></strong> as the <strong>first parameter </strong>when a <strong><em>method</em></strong> is <strong><em>called </em></strong>on <strong><em>an instance </em></strong>of a class.</li>\n",
    "<li><strong>Internally</strong>, <strong><em>self</em></strong> must be <strong><em>explicitly passed</em></strong>.</li>\n",
    "</ul>"
   ]
  },
  {
   "cell_type": "markdown",
   "metadata": {},
   "source": [
    "<h2><span style=\"font-family: 'Comic sans MS';\"><strong>Class Inheritance</strong></span></h2>"
   ]
  },
  {
   "cell_type": "code",
   "execution_count": null,
   "metadata": {
    "collapsed": true
   },
   "outputs": [],
   "source": [
    "class c1 :\n",
    "    x = 10\n",
    "\n",
    "class c2  :\n",
    "    \n",
    "    x = 20\n",
    "    y = 15\n",
    "\n",
    "class c3(c1,c2) :\n",
    "    z = 2\n"
   ]
  },
  {
   "cell_type": "code",
   "execution_count": null,
   "metadata": {
    "collapsed": true
   },
   "outputs": [],
   "source": [
    "x = c3()\n",
    "obj = c3()\n",
    "obj.z"
   ]
  },
  {
   "cell_type": "code",
   "execution_count": null,
   "metadata": {
    "collapsed": true
   },
   "outputs": [],
   "source": [
    "obj.x"
   ]
  },
  {
   "cell_type": "code",
   "execution_count": null,
   "metadata": {
    "collapsed": true
   },
   "outputs": [],
   "source": [
    "obj.y"
   ]
  },
  {
   "cell_type": "markdown",
   "metadata": {},
   "source": [
    "<ul>\n",
    "<li><strong><em>Super classes </em></strong>are listed <strong><em>in brackets </em></strong>after the name of the class.</li>\n",
    "<li>Python allows <strong><em>multiple inheritance</em></strong>.</li>\n",
    "<li><strong><em>Name resolution </em></strong>is <strong>bottom to top</strong>, <strong>left to right</strong>.</li>\n",
    "</ul>"
   ]
  },
  {
   "cell_type": "markdown",
   "metadata": {},
   "source": [
    "<h2><span style=\"font-family: 'Comic sans MS';\"><strong>Explicit Call to a Super-class Method\n",
    "</strong></span></h2>"
   ]
  },
  {
   "cell_type": "code",
   "execution_count": null,
   "metadata": {
    "collapsed": true
   },
   "outputs": [],
   "source": [
    "class Person:\n",
    "    def __init__(self, first, last):\n",
    "        self.firstname = first\n",
    "        self.lastname = last\n",
    "\n",
    "    def toString(self):\n",
    "        return self.firstname + \" \" + self.lastname\n",
    "\n",
    "class Employee(Person):\n",
    "    def __init__(self, first, last, staffnum):\n",
    "        Person.__init__(self, first, last)\n",
    "        self.staffnumber = staffnum\n",
    "\n",
    "    def toString(self):\n",
    "        return Person.toString(self) + \", \" +  str(self.staffnumber)\n"
   ]
  },
  {
   "cell_type": "code",
   "execution_count": null,
   "metadata": {
    "collapsed": true
   },
   "outputs": [],
   "source": [
    "person1 = Person('avraham','cohen')\n",
    "person2 = Employee('yisaac','levi',1234)\n",
    "person1.toString()\n",
    "person2.toString()"
   ]
  },
  {
   "cell_type": "markdown",
   "metadata": {},
   "source": [
    "<h2><span style=\"font-family: 'Comic sans MS';\"><strong>Instance Variables</strong></span></h2>"
   ]
  },
  {
   "cell_type": "markdown",
   "metadata": {},
   "source": [
    "<ul>\n",
    "<li><strong><em>Created</em></strong> as they are <strong><em>assigned</em></strong></li>\n",
    "<li>\n",
    "<strong><em>Referenced</em></strong> as <strong><em>self.&lt;variable&gt;</em></strong>\n",
    "</li>\n",
    "</ul>"
   ]
  },
  {
   "cell_type": "markdown",
   "metadata": {},
   "source": [
    "\n",
    "<h2><span style=\"font-family: 'Comic sans MS';\"><strong>Classes as Objects</strong></span></h2>"
   ]
  },
  {
   "cell_type": "markdown",
   "metadata": {},
   "source": [
    "* <p><strong><em>Classes</em></strong> exist as <strong><em>objects</em></strong> and contain their <strong><em>own variables</em></strong>.</p>\n",
    "* <p><strong><em>Name resolution </em></strong>starts looking in the <strong><em>instance</em></strong> of the class for a <strong><em>variable</em></strong>, then <strong><em>walks up </em></strong>the <strong><em>inheritance tree</em></strong>.</p>\n",
    "* <p><strong><em>Variables</em></strong> <strong>don&rsquo;t exist </strong>in <strong><em>the instance </em></strong>until they <strong><em>are assigned </em></strong>there.</p>"
   ]
  },
  {
   "cell_type": "code",
   "execution_count": null,
   "metadata": {
    "collapsed": true
   },
   "outputs": [],
   "source": [
    "class myclass :\n",
    "     x = 10\n",
    " \n",
    "a = myclass()\n",
    "b = myclass()\n",
    "a.x, b.x, myclass.x"
   ]
  },
  {
   "cell_type": "code",
   "execution_count": null,
   "metadata": {
    "collapsed": true
   },
   "outputs": [],
   "source": [
    "a.x = 15\n",
    "a.x, b.x, myclass.x"
   ]
  },
  {
   "cell_type": "code",
   "execution_count": null,
   "metadata": {
    "collapsed": true
   },
   "outputs": [],
   "source": [
    "myclass.x = 20\n",
    "a.x, b.x, myclass.x"
   ]
  },
  {
   "cell_type": "code",
   "execution_count": null,
   "metadata": {
    "collapsed": true
   },
   "outputs": [],
   "source": [
    "a.x = myclass.x\n",
    "a.x, b.x, myclass.x"
   ]
  },
  {
   "cell_type": "code",
   "execution_count": null,
   "metadata": {
    "collapsed": true
   },
   "outputs": [],
   "source": [
    "myclass.x = 99\n",
    "a.x, b.x, myclass.x"
   ]
  },
  {
   "cell_type": "markdown",
   "metadata": {},
   "source": [
    "\n",
    "<hr />\n",
    "<h1 style=\"text-align: center;\"><strong>דוגמאות תכנותיות עם מחלקות בפייתון</strong></h1>\n",
    "<hr />"
   ]
  },
  {
   "cell_type": "code",
   "execution_count": null,
   "metadata": {
    "collapsed": true
   },
   "outputs": [],
   "source": [
    "class LineOfSymbols:\n",
    "\n",
    "    def __init__(self, ln, symb) :\n",
    "        self.len = ln\n",
    "        self.symb = symb\n",
    "        \n",
    "    def printIt(self):\n",
    "        print(self.returnStr())\n",
    "\n",
    "    def returnStr(self):\n",
    "        return self.symb * self.len\n",
    "    "
   ]
  },
  {
   "cell_type": "code",
   "execution_count": null,
   "metadata": {
    "collapsed": true
   },
   "outputs": [],
   "source": []
  },
  {
   "cell_type": "code",
   "execution_count": null,
   "metadata": {
    "collapsed": true
   },
   "outputs": [],
   "source": [
    "class Graph:\n",
    "    def __init__(self,V,E):\n",
    "        self.V=V\n",
    "        self.VertexList={}\n",
    "        for vertex in V:\n",
    "            self.VertexList[vertex]=[]\n",
    "        for edge in E:\n",
    "            self.VertexList[edge[0]].append(edge[1])\n",
    "\n",
    "    def printGraph(self):\n",
    "        for i in self.V:\n",
    "            str=i + ': '\n",
    "            for edge in self.VertexList[i]:\n",
    "                str = str + \"({},{})\".format(i,edge[0])\n",
    "            print(str)\n",
    "        \n",
    "    def DFSrec(self,u):\n",
    "        for v in self.VertexList[u]:\n",
    "            if not(v in self.VertexDict):\n",
    "                print ('Edge ({},{}) is a Tree-edge'.format(u,v))\n",
    "                self.timer = self.timer + 1\n",
    "                self.VertexDict[v]=(u, self.timer, 'gray')\n",
    "                self.DFSrec(v)\n",
    "            else:\n",
    "                if (self.VertexDict[v][2] == 'gray'):\n",
    "                    print ('A circle found. Edge ({},{}) is a backword edge'.format(u,v))\n",
    "                else:\n",
    "                    if (self.VertexDict[u][1] < self.VertexDict[v][1]):\n",
    "                        print ('Edge ({},{}) is a forward edge'.format(u,v))\n",
    "                    else:\n",
    "                        print ('Edge ({},{}) is a cross edge'.format(u,v))\n",
    "        self.timer = self.timer + 1\n",
    "        parentOfU=self.VertexDict[u][0]\n",
    "        self.VertexDict[u]=(parentOfU,self.timer, 'black')\n",
    "    \n",
    "    def DFS(self):\n",
    "        self.VertexDict={}\n",
    "        self.timer=0\n",
    "        returnedVal = False\n",
    "        for u in self.V:\n",
    "            if (not (u in self.VertexDict)):\n",
    "                self.timer = self.timer + 1\n",
    "                self.VertexDict[u]=(\"\",self.timer, \"gray\")\n",
    "                self.DFSrec(u)"
   ]
  },
  {
   "cell_type": "code",
   "execution_count": null,
   "metadata": {
    "collapsed": true
   },
   "outputs": [],
   "source": [
    "\n"
   ]
  },
  {
   "cell_type": "code",
   "execution_count": null,
   "metadata": {
    "collapsed": true
   },
   "outputs": [],
   "source": [
    "g=Graph(['a','b','c','d'],[('a','b'),('b','c'),('c','a'),('c','d')])\n",
    "g.DFS()"
   ]
  },
  {
   "cell_type": "code",
   "execution_count": null,
   "metadata": {
    "collapsed": true
   },
   "outputs": [],
   "source": [
    "class Student:\n",
    "        def __init__(self, name, grades, age):\n",
    "                self.name = name\n",
    "                self.grades = grades\n",
    "                self.age = age\n",
    "        def __repr__(self):\n",
    "                return repr((self.name, self.age))\n",
    "        def average_grade(self):\n",
    "                return sum(self.grades) / len(self.grades)\n"
   ]
  },
  {
   "cell_type": "code",
   "execution_count": null,
   "metadata": {
    "collapsed": true
   },
   "outputs": [],
   "source": [
    "student_objects = [\n",
    "        Student('john', [70,80,90], 15),\n",
    "        Student('jane', [60,70,60], 12),\n",
    "        Student('dave', [89], 10)]\n",
    "student_objects"
   ]
  },
  {
   "cell_type": "code",
   "execution_count": null,
   "metadata": {
    "collapsed": true
   },
   "outputs": [],
   "source": [
    "student_objects.sort(key=lambda stu: stu.age)\n",
    "student_objects"
   ]
  },
  {
   "cell_type": "code",
   "execution_count": null,
   "metadata": {
    "collapsed": true
   },
   "outputs": [],
   "source": [
    "milgaim=[x for x in student_objects if x.average_grade() >= 80]\n",
    "milgaim"
   ]
  },
  {
   "cell_type": "code",
   "execution_count": null,
   "metadata": {
    "collapsed": true
   },
   "outputs": [],
   "source": [
    "names = [x.name for x in milgaim]\n",
    "names\n"
   ]
  },
  {
   "cell_type": "code",
   "execution_count": 15,
   "metadata": {},
   "outputs": [
    {
     "ename": "SyntaxError",
     "evalue": "invalid syntax (<ipython-input-15-59e99fcaa65a>, line 23)",
     "traceback": [
      "\u001b[1;36m  File \u001b[1;32m\"<ipython-input-15-59e99fcaa65a>\"\u001b[1;36m, line \u001b[1;32m23\u001b[0m\n\u001b[1;33m    print('{} {} {} = ?'. , self.operator[0], self.number2))\u001b[0m\n\u001b[1;37m                          ^\u001b[0m\n\u001b[1;31mSyntaxError\u001b[0m\u001b[1;31m:\u001b[0m invalid syntax\n"
     ],
     "output_type": "error"
    }
   ],
   "source": [
    "from random import *\n",
    "\n",
    "class Lomda:\n",
    "    def __init__(self, numberSize, numEx) :\n",
    "        self.size = numberSize\n",
    "        self.numExercises = numEx\n",
    "        self.initializeExercises()\n",
    "\n",
    "    def initializeExercises(self):\n",
    "        self.exercises = [('+',lambda x,y : x + y),\n",
    "                          ('-',lambda x,y : x - y),\n",
    "                          ('*',lambda x,y : x * y),\n",
    "                          ('/',lambda x,y : x / y)]\n",
    "       \n",
    "    \n",
    "    def generateExercise(self):\n",
    "        self.number1 = randint(0,self.size)\n",
    "        self.number2 = randint(0,self.size)\n",
    "        opNumber= randint(0,3)\n",
    "        self.operator = self.exercises[opNumber]\n",
    "\n",
    "    def printExercise(self):\n",
    "        print('{} {} {} = ?'. , self.operator[0], self.number2))\n",
    "\n",
    "    def checkExercise(self, sol):\n",
    "        return (int(sol*1000) == \n",
    "                     int(self.operator[1](self.number1, self.number2)*1000))\n",
    "\n",
    "    def loopExercises(self):\n",
    "        self.grade=0\n",
    "        self.name = input(\"What's your name? \")\n",
    "        print('Hello {}. Please answer the following {} exercises '.format(self.name, self.numExercises))\n",
    "        \n",
    "        for i in range(0,self.numExercises):\n",
    "            self.generateExercise()\n",
    "            self.printExercise()\n",
    "            sol = float(input('What is the answer? '))\n",
    "            if (self.checkExercise(sol)):\n",
    "              print('very good!')\n",
    "              self.grade = self.grade + 1\n",
    "            else:\n",
    "              print('{}, you are wrong that time... '.format(self.name))\n",
    "            \n",
    "        print('Dear {}, your final grade is {}. ByeBye'.format(self.name, int(self.grade*100/self.numExercises)))"
   ]
  },
  {
   "cell_type": "markdown",
   "metadata": {},
   "source": [
    "<h1 div id=\"header2\">hello<h1>"
   ]
  }
 ],
 "metadata": {
  "kernelspec": {
   "display_name": "Python 3",
   "language": "python",
   "name": "python3"
  },
  "language_info": {
   "codemirror_mode": {
    "name": "ipython",
    "version": 3
   },
   "file_extension": ".py",
   "mimetype": "text/x-python",
   "name": "python",
   "nbconvert_exporter": "python",
   "pygments_lexer": "ipython3",
   "version": "3.6.3"
  }
 },
 "nbformat": 4,
 "nbformat_minor": 2
}
