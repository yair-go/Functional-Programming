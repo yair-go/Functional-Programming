{
 "cells": [
  {
   "cell_type": "markdown",
   "metadata": {
    "slideshow": {
     "slide_type": "slide"
    }
   },
   "source": [
    "  # Functional Programming in python"
   ]
  },
  {
   "cell_type": "markdown",
   "metadata": {
    "slideshow": {
     "slide_type": "fragment"
    }
   },
   "source": [
    "# Lecture 3"
   ]
  },
  {
   "cell_type": "markdown",
   "metadata": {
    "slideshow": {
     "slide_type": "slide"
    }
   },
   "source": [
    "## Functional Programming Concepts\n",
    "* What is Functional Programming?\n",
    "* Pure Functions and Referential Transparency\n",
    "* Data Immutability IN, Side-Effects OUT\n",
    "* What is a Variable?\n",
    "* Expressing Iteration as Recursion\n",
    "* Functions as First Class Objects\n",
    "* Lambda Expressions / Anonymous Functions\n",
    "* The Concept of Closure\n",
    "* High-Order Functions\n",
    "* Lazy Evaluation and Python Generators\n",
    "* Currying\n",
    "* Pipelines"
   ]
  },
  {
   "cell_type": "markdown",
   "metadata": {
    "slideshow": {
     "slide_type": "slide"
    }
   },
   "source": [
    "![image.png](attachment:image.png)"
   ]
  },
  {
   "cell_type": "markdown",
   "metadata": {
    "slideshow": {
     "slide_type": "slide"
    }
   },
   "source": [
    "![image.png](attachment:image.png)"
   ]
  },
  {
   "cell_type": "markdown",
   "metadata": {
    "slideshow": {
     "slide_type": "slide"
    }
   },
   "source": [
    "![image.png](attachment:image.png)"
   ]
  },
  {
   "cell_type": "markdown",
   "metadata": {
    "slideshow": {
     "slide_type": "slide"
    }
   },
   "source": [
    "![image.png](attachment:image.png)"
   ]
  },
  {
   "cell_type": "markdown",
   "metadata": {
    "slideshow": {
     "slide_type": "slide"
    }
   },
   "source": [
    "![image.png](attachment:image.png)"
   ]
  },
  {
   "cell_type": "markdown",
   "metadata": {
    "slideshow": {
     "slide_type": "slide"
    }
   },
   "source": [
    "![image.png](attachment:image.png)"
   ]
  },
  {
   "cell_type": "markdown",
   "metadata": {},
   "source": [
    "![image.png](attachment:image.png)"
   ]
  },
  {
   "cell_type": "markdown",
   "metadata": {},
   "source": [
    "![image.png](attachment:image.png)"
   ]
  },
  {
   "cell_type": "code",
   "execution_count": 3,
   "metadata": {
    "collapsed": true
   },
   "outputs": [],
   "source": [
    "# %load ExamplePrograms3\\stateless.py\n",
    "#\n",
    "# don't update\n",
    "# - create the value to be returned\n",
    "#\n",
    "# String example\n",
    "def fullName1(firstName, lastName):\n",
    "   # imperative style\n",
    "   Name = ''\n",
    "   Name += firstName\n",
    "   Name += \", \"\n",
    "   Name += lastName\n",
    "   return Name\n",
    "\n",
    "def fullName2a(firstName, lastName):\n",
    "   # functional (stateless) style\n",
    "   return firstName + \", \" + lastName\n",
    "\n",
    "def fullName2b(firstName, lastName):\n",
    "   # functional (once-only assignment) style\n",
    "   Name = firstName + \", \" + lastName\n",
    "   return Name\n",
    "#\n",
    "# List example\n",
    "def yearsList(From,To):\n",
    "   # imperative style\n",
    "   years = []\n",
    "   y = From\n",
    "   while y <= To:\n",
    "     years.append(y)\n",
    "     y += 1\n",
    "   return years\n",
    "\n",
    "def yearsList2a (From, To):\n",
    "   # functional (stateless) style\n",
    "   return list(range(From, To+1))\n",
    "\n",
    "def yearsList2b (From, To):\n",
    "   # functional (once-only assignment) style\n",
    "   years = list(range(From, To+1))\n",
    "   return years\n",
    "\n",
    "#\n",
    "# Dict example\n",
    "def popAges(names, ages):\n",
    "   # imperative style\n",
    "   D = dict([])\n",
    "   for i in range(len(names)):\n",
    "      D[names[i]] = ages[i]\n",
    "   return D\n",
    "\n",
    "def popAges2a(names, ages):\n",
    "   # functional (stateless) style\n",
    "   return dict(zip(names, ages))\n",
    "\n",
    "def popAges2b(names, ages):\n",
    "   # functional (once-only assignment) style\n",
    "   pairsLst = zip(names, ages)\n",
    "   return dict(pairsLst)\n",
    "\n",
    "   \n",
    "   \n"
   ]
  },
  {
   "cell_type": "markdown",
   "metadata": {},
   "source": [
    "![image.png](attachment:image.png)"
   ]
  },
  {
   "cell_type": "markdown",
   "metadata": {},
   "source": [
    "![image.png](attachment:image.png)"
   ]
  },
  {
   "cell_type": "code",
   "execution_count": 7,
   "metadata": {},
   "outputs": [
    {
     "name": "stdout",
     "output_type": "stream",
     "text": [
      "10\n",
      "<function y at 0x00000288DF8A6950>\n",
      "Hello Anna\n",
      "Sarah\n",
      "Hello Sarah\n"
     ]
    }
   ],
   "source": [
    "x = 10\n",
    "print(x)\n",
    "def y(name):\n",
    "    print (\"Hello\", name)\n",
    "print(y)\n",
    "y(\"Anna\")\n",
    "z = 'Sarah'\n",
    "print(z)\n",
    "y(z)"
   ]
  },
  {
   "cell_type": "markdown",
   "metadata": {},
   "source": [
    "![image.png](attachment:image.png)"
   ]
  },
  {
   "cell_type": "code",
   "execution_count": 1,
   "metadata": {
    "collapsed": true
   },
   "outputs": [],
   "source": [
    "# %load ExamplePrograms3\\funcasparam.py\n",
    "#\n",
    "# funcasparam.py\n",
    "#\n",
    "def foo(f, L) :\n",
    "    # this function is not stateless, but it is functional:\n",
    "    # 1) the output depends only on the input\n",
    "    # 2) there are no side-effects:\n",
    "    #   - the input is not changed\n",
    "    #   - any non local data is not used or changed\n",
    "    L1 = list(L[:])\n",
    "    for i in range(len(L)):\n",
    "        L1[i] = f(L[i])\n",
    "    return L1\n",
    "\n",
    "def bar(x) :\n",
    "    return x * x\n",
    "\n",
    "\n",
    "\n"
   ]
  },
  {
   "cell_type": "markdown",
   "metadata": {},
   "source": [
    "![image.png](attachment:image.png)"
   ]
  },
  {
   "cell_type": "markdown",
   "metadata": {},
   "source": [
    "![image.png](attachment:image.png)"
   ]
  },
  {
   "cell_type": "markdown",
   "metadata": {},
   "source": [
    "![image.png](attachment:image.png)"
   ]
  },
  {
   "cell_type": "markdown",
   "metadata": {},
   "source": [
    "![image.png](attachment:image.png)"
   ]
  },
  {
   "cell_type": "markdown",
   "metadata": {},
   "source": [
    "![image.png](attachment:image.png)"
   ]
  },
  {
   "cell_type": "markdown",
   "metadata": {},
   "source": [
    "![image.png](attachment:image.png)"
   ]
  },
  {
   "cell_type": "code",
   "execution_count": 4,
   "metadata": {
    "collapsed": true
   },
   "outputs": [],
   "source": [
    "# %load ExamplePrograms3\\funcinfunc.py\n",
    "#\n",
    "# funcinfunc.py\n",
    "#\n",
    "def foo (x,y) :\n",
    "    def bar (z) :\n",
    "        return z * 2\n",
    "    return bar(x) + y\n"
   ]
  },
  {
   "cell_type": "code",
   "execution_count": 5,
   "metadata": {},
   "outputs": [
    {
     "name": "stdout",
     "output_type": "stream",
     "text": [
      "7\n",
      "11\n"
     ]
    }
   ],
   "source": [
    "print(foo(2,3))\n",
    "print (foo(2,7))"
   ]
  },
  {
   "cell_type": "markdown",
   "metadata": {},
   "source": [
    "![image.png](attachment:image.png)"
   ]
  },
  {
   "cell_type": "markdown",
   "metadata": {},
   "source": [
    "![image.png](attachment:image.png)"
   ]
  },
  {
   "cell_type": "code",
   "execution_count": 7,
   "metadata": {},
   "outputs": [
    {
     "name": "stdout",
     "output_type": "stream",
     "text": [
      "4\n",
      "<function foo.<locals>.bar at 0x0000023496349730>\n",
      "5\n"
     ]
    }
   ],
   "source": [
    "# %load ExamplePrograms3\\funcreturnfunc.py\n",
    "#\n",
    "# funcreturnfunc.py\n",
    "#\n",
    "def foo (x = 0) :\n",
    "    def bar(y) :\n",
    "        return x + y\n",
    "    return bar\n",
    "# main\n",
    "print (foo(1)(3))\n",
    "f = foo(3)\n",
    "print (f)\n",
    "print (f(2))\n",
    "\n"
   ]
  },
  {
   "cell_type": "markdown",
   "metadata": {},
   "source": [
    "![image.png](attachment:image.png)"
   ]
  },
  {
   "cell_type": "markdown",
   "metadata": {},
   "source": [
    "![image.png](attachment:image.png)"
   ]
  },
  {
   "cell_type": "code",
   "execution_count": 9,
   "metadata": {},
   "outputs": [
    {
     "name": "stdout",
     "output_type": "stream",
     "text": [
      "\n",
      "Statistics will be calculated over [754, 224, 37, 411, 776, 938, 915, 616, 462, 178]\n",
      "The minimum of the data is 37\n",
      "The maximum of the data is 938\n",
      "The sum of the data is 5311\n",
      "The average of the data is 531.1\n",
      "The stdev of the data is 318.35321054870275\n",
      "\n",
      "Statistics will be calculated over [830, 910, 785, 496, 549, 663, 455, 48, 291, 29]\n",
      "The minimum of the data is 29\n",
      "The maximum of the data is 910\n",
      "The sum of the data is 5056\n",
      "The average of the data is 505.6\n",
      "The stdev of the data is 308.89559545077503\n"
     ]
    }
   ],
   "source": [
    "# %load ExamplePrograms3\\funcsInDataStructs.py\n",
    "#\n",
    "# funcsInDataStructs.py\n",
    "#\n",
    "import statistics as stat\n",
    "import random\n",
    "#\n",
    "def callF(fobj, data):\n",
    "   return fobj(data)\n",
    "# main\n",
    "avg    = stat.mean\n",
    "fNames = ['minimum', 'maximum', 'sum', 'average', 'stdev']\n",
    "fObjs  = [min, max, sum, avg, stat.stdev]\n",
    "fLst   = list(zip(fNames, fObjs))\n",
    "for i in range(2):\n",
    "  data   = random.choices(list(range(0,1000)), k=10)\n",
    "  print ('\\nStatistics will be calculated over', data)\n",
    "  for i in range(len(fLst)):\n",
    "    fname = fLst[i][0]\n",
    "    print ('The ' + fname, 'of the data is', end=' ')\n",
    "    print (callF(fLst[i][1], data))\n",
    "#\n",
    "\n"
   ]
  },
  {
   "cell_type": "markdown",
   "metadata": {},
   "source": [
    "![image.png](attachment:image.png)"
   ]
  },
  {
   "cell_type": "markdown",
   "metadata": {},
   "source": [
    "![image.png](attachment:image.png)"
   ]
  },
  {
   "cell_type": "markdown",
   "metadata": {},
   "source": [
    "![image.png](attachment:image.png)"
   ]
  },
  {
   "cell_type": "markdown",
   "metadata": {},
   "source": [
    "![image.png](attachment:image.png)"
   ]
  },
  {
   "cell_type": "code",
   "execution_count": null,
   "metadata": {
    "collapsed": true
   },
   "outputs": [],
   "source": [
    "# %load ExamplePrograms3\\ComposeFuncs.py\n",
    "#\n",
    "# ComposeFuncs.py\n",
    "#\n",
    "#***********************************************************\n",
    "#          \"symbolic\" composition of two functions          \n",
    "#***********************************************************\n",
    "def compose(f, g) :\n",
    "   return lambda x : f(g(x))\n",
    "\n",
    "#***********************************************************\n",
    "#          \"symbolic\" composition of several functions          \n",
    "#***********************************************************\n",
    "def fullCompose(*funcs):\n",
    "   if len(funcs) > 1:\n",
    "     composedF = funcs[-1]\n",
    "     for func in funcs[-2:0:-1] :\n",
    "        composedF = compose(func, composedF)\n",
    "     return compose(funcs[0], composedF)\n",
    "   else:\n",
    "     return funcs[0]\n",
    "\n",
    "#***********************************************************\n",
    "#         computing the composition of two functions        \n",
    "#***********************************************************\n",
    "def composeCompute(f, g, x) :\n",
    "   return f(g(x))\n",
    "\n"
   ]
  },
  {
   "cell_type": "code",
   "execution_count": null,
   "metadata": {
    "collapsed": true
   },
   "outputs": [],
   "source": []
  },
  {
   "cell_type": "markdown",
   "metadata": {},
   "source": [
    "![image.png](attachment:image.png)"
   ]
  },
  {
   "cell_type": "code",
   "execution_count": 6,
   "metadata": {},
   "outputs": [],
   "source": [
    "# %load ExamplePrograms3\\DerivFuncs.py\n",
    "#\n",
    "from ExamplePrograms3.ComposeFuncs import *\n",
    "#\n",
    "# DerivFuncs.py\n",
    "#\n",
    "#***********************************************************\n",
    "#          \"symbolic\" derivation of a function          \n",
    "#***********************************************************\n",
    "def deriv(f):\n",
    "   return lambda x : (f(x + 0.0005) - f(x)) / 0.0005\n",
    "#\n",
    "#***********************************************************\n",
    "#          \"symbolic\" Nth derivation of a function           \n",
    "#***********************************************************\n",
    "def Nderiv(f, N):\n",
    "   def selfCompLst(func,N):\n",
    "      Lst = []\n",
    "      for i in range(N):\n",
    "         Lst.insert(0,func)\n",
    "      return Lst   \n",
    "   derivSeq = selfCompLst(deriv, N)\n",
    "   d = fullCompose(*derivSeq)(f)\n",
    "   return d\n",
    "#\n",
    "#**************************************************************\n",
    "# computing the value of a derivative for a specific value of x      \n",
    "#**************************************************************\n",
    "def derivCompute(f, x):\n",
    "   return (f(x + 0.0005) - f(x)) / 0.0005\n",
    "#\n",
    "\n"
   ]
  },
  {
   "cell_type": "code",
   "execution_count": 9,
   "metadata": {},
   "outputs": [
    {
     "data": {
      "text/plain": [
       "48.01000075002548"
      ]
     },
     "execution_count": 9,
     "metadata": {},
     "output_type": "execute_result"
    }
   ],
   "source": [
    " f1 = lambda x: 3*x ** 3 + 2 *x ** 2 + 4 * x + 7\n",
    "deriv(f1)(2)"
   ]
  },
  {
   "cell_type": "markdown",
   "metadata": {},
   "source": [
    "![image.png](attachment:image.png)"
   ]
  },
  {
   "cell_type": "code",
   "execution_count": 14,
   "metadata": {},
   "outputs": [
    {
     "name": "stdout",
     "output_type": "stream",
     "text": [
      "10 11 12 13 14 \n",
      "('Iosi', 2500.0) ('Rachel', 4500.0) ('Anna', 1600.0) ('Naomi', 2500.0) ('Jack', 8750.0) "
     ]
    }
   ],
   "source": [
    "# %load ExamplePrograms3\\Closures1.py\n",
    "#\n",
    "# Closures1.py\n",
    "#\n",
    "def build_taxer(name, rate):\n",
    "    def taxer(amount):\n",
    "       return amount * (float(rate) / 100)\n",
    "    return (name, taxer)\n",
    "\n",
    "def add_x(x):\n",
    "   def adder(y):\n",
    "      return x + y\n",
    "   return adder\n",
    "#\n",
    "# an adders \"factory\"\n",
    "adders = dict([])\n",
    "for i in range(5):\n",
    "   adders[i] = add_x(i)\n",
    "\n",
    "# using the adders\n",
    "for k in adders:\n",
    "   print (adders[k](10), end=' ')\n",
    "print ()\n",
    "#\n",
    "# a taxers \"factory\"\n",
    "taxers  = []\n",
    "people  = ['Iosi','Rachel','Anna','Naomi','Jack']\n",
    "rates   = (25.0, 30.0, 20.0, 25.0, 35.0)\n",
    "amounts = (10000.0, 15000.0, 8000.0, 10000.0, 25000.0)\n",
    "for i in range(len(people)):\n",
    "   taxers.append(build_taxer(people[i],rates[i]))\n",
    "# using the taxers\n",
    "for i in range(len(amounts)):\n",
    "   print ((taxers[i][0], taxers[i][1](amounts[i])), end=' ')\n",
    "#\n",
    "   \n"
   ]
  },
  {
   "cell_type": "markdown",
   "metadata": {},
   "source": [
    "![image.png](attachment:image.png)"
   ]
  },
  {
   "cell_type": "markdown",
   "metadata": {},
   "source": [
    "![image.png](attachment:image.png)"
   ]
  },
  {
   "cell_type": "code",
   "execution_count": 17,
   "metadata": {},
   "outputs": [
    {
     "name": "stdout",
     "output_type": "stream",
     "text": [
      "True\n",
      "False\n"
     ]
    }
   ],
   "source": [
    "# %load ExamplePrograms3\\PainterPlan.py\n",
    "#\n",
    "# PainterPlan.py\n",
    "#\n",
    "def paintPlan(*Colors) :\n",
    "      return lambda color : color in Colors\n",
    "#\n",
    "clients = ('MrsCohen','MrsLevi','MrsKeshet')\n",
    "plans   = (paintPlan('white', 'light blue', 'yellow'),\\\n",
    "           paintPlan('black', 'red', 'blue', 'white'),\\\n",
    "           paintPlan('gray','brown','dark blue', 'white'))\n",
    "paints = dict(zip(clients, plans))\n",
    "#\n",
    "print (paints['MrsCohen']('white'))\n",
    "print (paints['MrsCohen']('red'))\n",
    "#\n"
   ]
  },
  {
   "cell_type": "markdown",
   "metadata": {},
   "source": [
    "![image.png](attachment:image.png)"
   ]
  },
  {
   "cell_type": "code",
   "execution_count": 22,
   "metadata": {},
   "outputs": [
    {
     "name": "stdout",
     "output_type": "stream",
     "text": [
      "False\n",
      "True\n"
     ]
    }
   ],
   "source": [
    "# %load ExamplePrograms3\\betweenChecker1.py\n",
    "#\n",
    "# betweenChecker1.py\n",
    "#\n",
    "def createFunc (low, up):\n",
    "   return lambda x : low <= x <= up\n",
    "#\n",
    "f1 = createFunc (1,10)\n",
    "f2 = createFunc (1,20)\n",
    "#\n",
    "print (f1(14))\n",
    "print (f2(14))\n",
    "#\n"
   ]
  },
  {
   "cell_type": "code",
   "execution_count": 24,
   "metadata": {},
   "outputs": [
    {
     "name": "stdout",
     "output_type": "stream",
     "text": [
      "14 10\n",
      "14 20\n"
     ]
    }
   ],
   "source": [
    "# %load ExamplePrograms3\\betweenChecker2.py\n",
    "#\n",
    "# betweenChecker2.py\n",
    "#\n",
    "def createFunc (low, up):\n",
    "   def checker(x):\n",
    "      if (low <= x):\n",
    "        return x\n",
    "      else:\n",
    "        return up\n",
    "   return checker\n",
    "#\n",
    "f1 = createFunc (1,10)\n",
    "f2 = createFunc (1,20)\n",
    "#\n",
    "print (f1(14), f1(0))\n",
    "print (f2(14), f2(0))\n",
    "#\n"
   ]
  },
  {
   "cell_type": "markdown",
   "metadata": {},
   "source": [
    "![image.png](attachment:image.png)"
   ]
  },
  {
   "cell_type": "code",
   "execution_count": 27,
   "metadata": {},
   "outputs": [
    {
     "name": "stdout",
     "output_type": "stream",
     "text": [
      "5\n",
      "6\n"
     ]
    }
   ],
   "source": [
    "# %load ExamplePrograms3\\Calc.py\n",
    "#\n",
    "# Calc.py\n",
    "#\n",
    "def makeCalc():\n",
    "   def add(x,y):\n",
    "      return x+y\n",
    "   def mult(x,y):\n",
    "      return x*y\n",
    "   def div (x,y):\n",
    "      return x/y\n",
    "   def minus (x,y):\n",
    "      return x-y\n",
    "   def dispatch(op):\n",
    "      opNames   = ('add', 'mult', 'div', 'minus')\n",
    "      Ops = (add, mult, div, minus)\n",
    "      if op in opNames:\n",
    "        return Ops[opNames.index(op)]\n",
    "      else:\n",
    "        print (\"invalid operator\")\n",
    "        sys.exit()\n",
    "   return dispatch\n",
    "#\n",
    "c1 = makeCalc()\n",
    "c2 = makeCalc()\n",
    "print (c1('add')(2,3))\n",
    "print (c2('mult')(2,3))\n",
    "#\n",
    "        \n"
   ]
  },
  {
   "cell_type": "code",
   "execution_count": null,
   "metadata": {
    "collapsed": true
   },
   "outputs": [],
   "source": []
  }
 ],
 "metadata": {
  "kernelspec": {
   "display_name": "Python 3",
   "language": "python",
   "name": "python3"
  },
  "language_info": {
   "codemirror_mode": {
    "name": "ipython",
    "version": 3
   },
   "file_extension": ".py",
   "mimetype": "text/x-python",
   "name": "python",
   "nbconvert_exporter": "python",
   "pygments_lexer": "ipython3",
   "version": "3.6.3"
  }
 },
 "nbformat": 4,
 "nbformat_minor": 2
}
